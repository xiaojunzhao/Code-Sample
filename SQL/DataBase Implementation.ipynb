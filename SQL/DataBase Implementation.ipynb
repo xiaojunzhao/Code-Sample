{
 "cells": [
  {
   "cell_type": "markdown",
   "metadata": {},
   "source": [
    "# SQL On NYC Restaurant Inspections\n",
    "The city of New York does restaurant inspections and assigns a grade.\n",
    "Inspections data the last 4 years are available\n",
    "[here](https://s3.amazonaws.com/thedataincubator/coursedata/nyc_inspection_data.zip).\n",
    "\n",
    "The file `RI_Webextract_BigApps_Latest.xls` contains a description of each of\n",
    "the datafiles.  Take a look and then load the csv formatted `*.txt` files into\n",
    "Postgresql into five tables:\n",
    "1. `actions`\n",
    "2. `cuisines`\n",
    "3. `violations`\n",
    "4. `grades` (from `WebExtract.txt`)\n",
    "5. `boroughs` (from `RI_Webextract_BigApps_Latest.xls`)"
   ]
  },
  {
   "cell_type": "code",
   "execution_count": null,
   "metadata": {
    "collapsed": false
   },
   "outputs": [],
   "source": [
    "import sys\n",
    "import re\n",
    "sys.path.append('/usr/lib/python2.7/dist-packages')\n",
    "import csv\n",
    "from pysqlite2 import dbapi2 as sqlite3\n",
    "#con = sqlite3.connect(\":memory:\")\n",
    "con = sqlite3.connect('dabase.db')\n",
    "con.enable_load_extension(True)\n",
    "con.load_extension(\"/home/vagrant/libsqlitefunctions\")\n",
    "\n",
    "con.text_factory = str\n",
    "c = con.cursor()  # create cursor object and call its execute method to perform sql command"
   ]
  },
  {
   "cell_type": "markdown",
   "metadata": {},
   "source": [
    "CAMIS,DBA,BORO,BUILDING,STREET,ZIPCODE,PHONE,CUISINECODE,INSPDATE,ACTION,VIOLCODE, SCORE,CURRENTGRADE,GRADEDATE,RECORDDATE"
   ]
  },
  {
   "cell_type": "markdown",
   "metadata": {},
   "source": [
    "## Score by ZipCode\n",
    "Return a list of tuples of the form:\n",
    "```\n",
    "(zipcode, mean score, standard error, number of violations)\n",
    "```\n",
    "for each of the 184 zipcodes in the city with over 100 violations. Sort the\n",
    "list in ascending order by mean score."
   ]
  },
  {
   "cell_type": "code",
   "execution_count": null,
   "metadata": {
    "collapsed": false
   },
   "outputs": [],
   "source": [
    "# Print Column Name of the Table Grades\n",
    "cursor = con.execute('select * from grades')\n",
    "names = [description[0] for description in cursor.description]\n",
    "print names"
   ]
  },
  {
   "cell_type": "code",
   "execution_count": null,
   "metadata": {
    "collapsed": false
   },
   "outputs": [],
   "source": [
    "# Create a NEW TABLE\n",
    "con.execute('DROP TABLE IF EXISTS score_table')\n",
    "con.execute('CREATE TABLE score_table AS SELECT ZIPCODE,SCORE,VIOLCODE FROM grades ORDER BY ZIPCODE')\n",
    "con.enable_load_extension(False)\n",
    "con.execute('UPDATE score_table SET VIOLCODE=1')\n",
    "con.execute('DROP TABLE IF EXISTS final_score_table')\n",
    "con.execute('CREATE TABLE final_score_table(ZIPCODE, MEAN, STANDARD_ERROR, TOTOAL_VIOLATION)')\n",
    "for row in con.execute('SELECT ZIPCODE, AVG(SCORE),STDEV(SCORE)/SQRT(COUNT(*)),SUM(VIOLCODE) FROM score_table GROUP BY ZIPCODE'):\n",
    "    con.execute('INSERT INTO final_score_table VALUES (?,?,?,?)',row)"
   ]
  },
  {
   "cell_type": "code",
   "execution_count": null,
   "metadata": {
    "collapsed": false
   },
   "outputs": [],
   "source": [
    "List_score = []\n",
    "for row in con.execute('SELECT * FROM final_score_table WHERE TOTOAL_VIOLATION>100'):\n",
    "    List_score.append(row)\n",
    "#print List_score"
   ]
  },
  {
   "cell_type": "markdown",
   "metadata": {},
   "source": [
    "##Score_by_Map\n",
    "\n",
    "The above are not terribly enlightening.  Use [CartoDB](http://cartodb.com/)\n",
    "to produce a map of average scores by zip code."
   ]
  },
  {
   "cell_type": "code",
   "execution_count": null,
   "metadata": {
    "collapsed": false
   },
   "outputs": [],
   "source": [
    "con.execute('DROP TABLE IF EXISTS map')\n",
    "con.execute('CREATE TABLE map AS SELECT ZIPCODE, MEAN FROM final_score_table')\n",
    "con.execute('DELETE FROM map WHERE MEAN = 0.0')\n",
    "#for row in con.execute('SELECT * FROM map'):\n",
    "#    print row"
   ]
  },
  {
   "cell_type": "code",
   "execution_count": null,
   "metadata": {
    "collapsed": false
   },
   "outputs": [],
   "source": [
    "import csv\n",
    "with open('map.csv', 'wb') as csvfile:\n",
    "    for row in con.execute('SELECT * FROM map'):\n",
    "        w = csv.writer(csvfile, delimiter=',')\n",
    "        L = list(row)\n",
    "        w.writerow(L)"
   ]
  },
  {
   "cell_type": "markdown",
   "metadata": {},
   "source": [
    "#### URL:　http://cdb.io/1UN3K1w"
   ]
  },
  {
   "cell_type": "markdown",
   "metadata": {},
   "source": [
    "## score_by_borough\n",
    "Return a list of tuples of the form:\n",
    "    ```\n",
    "    (borough, mean score, stderr, number of violations)\n",
    "    ```\n",
    "for each of the city's five boroughs. Sort the list in ascending order by grade."
   ]
  },
  {
   "cell_type": "code",
   "execution_count": null,
   "metadata": {
    "collapsed": false
   },
   "outputs": [],
   "source": [
    "con.execute('DROP TABLE IF EXISTS score_borough')\n",
    "con.execute('CREATE TABLE score_borough AS SELECT BORO,SCORE,VIOLCODE FROM grades ORDER BY SCORE ASC')"
   ]
  },
  {
   "cell_type": "code",
   "execution_count": null,
   "metadata": {
    "collapsed": false
   },
   "outputs": [],
   "source": [
    "con.enable_load_extension(False)\n",
    "con.execute('DROP TABLE IF EXISTS final_score_borough')\n",
    "con.execute('UPDATE score_borough SET VIOLCODE=1')\n",
    "con.execute('CREATE TABLE final_score_borough(BORO, MEAN, STANDARD_ERROR, TOTOAL_VIOLATION)')"
   ]
  },
  {
   "cell_type": "code",
   "execution_count": null,
   "metadata": {
    "collapsed": false
   },
   "outputs": [],
   "source": [
    "for row in con.execute('SELECT BORO, AVG(SCORE),STDEV(SCORE)/SQRT(COUNT(*)),COUNT(*) FROM score_borough GROUP BY BORO'):\n",
    "    con.execute('INSERT INTO final_score_borough VALUES (?,?,?,?)',row)"
   ]
  },
  {
   "cell_type": "code",
   "execution_count": null,
   "metadata": {
    "collapsed": false
   },
   "outputs": [],
   "source": [
    "boro_score = []\n",
    "con.execute('DELETE FROM final_score_borough WHERE BORO=\"0\"')\n",
    "for row in con.execute('SELECT * FROM final_score_borough'):\n",
    "    boro_score.append(row)\n",
    "print boro_score"
   ]
  },
  {
   "cell_type": "markdown",
   "metadata": {},
   "source": [
    "## score_by_cuisine\n",
    "Return a list of the 75 tuples of the form\n",
    "    ```\n",
    "    (cuisine, mean score, stderr, number of violations)\n",
    "    ```\n",
    "for each of the 75 cuisine types with at least 100 inspections. Sort the list \n",
    "in ascending order by score."
   ]
  },
  {
   "cell_type": "code",
   "execution_count": null,
   "metadata": {
    "collapsed": false
   },
   "outputs": [],
   "source": [
    "con.execute('DROP TABLE IF EXISTS score_cuisine')\n",
    "con.execute('CREATE TABLE score_cuisine AS SELECT CUISINECODE,SCORE,VIOLCODE FROM grades ORDER BY SCORE ASC')"
   ]
  },
  {
   "cell_type": "code",
   "execution_count": null,
   "metadata": {
    "collapsed": false
   },
   "outputs": [],
   "source": [
    "con.enable_load_extension(False)\n",
    "con.execute('DROP TABLE IF EXISTS final_score_cuisine')\n",
    "con.execute('CREATE TABLE final_score_cuisine(CUISINECODE, MEAN, STANDARD_ERROR, TOTOAL_VIOLATION)')"
   ]
  },
  {
   "cell_type": "code",
   "execution_count": null,
   "metadata": {
    "collapsed": true
   },
   "outputs": [],
   "source": [
    "for row in con.execute('SELECT CUISINECODE, AVG(SCORE),STDEV(SCORE)/SQRT(COUNT(*)),COUNT(*) FROM score_cuisine GROUP BY CUISINECODE'):\n",
    "    con.execute('INSERT INTO final_score_cuisine VALUES (?,?,?,?)',row)"
   ]
  },
  {
   "cell_type": "code",
   "execution_count": null,
   "metadata": {
    "collapsed": false
   },
   "outputs": [],
   "source": [
    "cuisine_score = []\n",
    "input_file = csv.DictReader(open('Cuisine.txt'))\n",
    "dic={}\n",
    "for row in input_file:\n",
    "    dic[row[\"CUISINECODE\"]] = str(row[\"CODEDESC\"])\n",
    "for row in con.execute('SELECT * FROM final_score_cuisine WHERE TOTOAL_VIOLATION>=100 '):\n",
    "    cuisine_score.append(list(row))\n",
    "#print cuisine_score\n",
    "\n",
    "new_cuisine_score = []\n",
    "for item in cuisine_score:\n",
    "    item[0] = dic[item[0]]\n",
    "    new_cuisine_score.append(tuple(item))\n",
    "#print new_cuisine_score"
   ]
  },
  {
   "cell_type": "markdown",
   "metadata": {},
   "source": [
    "## violation_by_cuisine\n",
    "Which cuisines tend to have a disproportionate number of what which violations?\n",
    "Answering this question isn't easy becuase you have to think carefully about\n",
    "normalizations.\n",
    "\n",
    "1. More popular cuisine categories will tend to have more violations just\n",
    "   becuase they represent more restaurants.\n",
    "2. Similarly, some violations are more common.  For example, knowing that\n",
    "   \"Equipment not easily movable or sealed to floor\" is a common violation for\n",
    "   Chinese restuarants is not particularly helpful when it is a common\n",
    "   violation for all restaurants.\n",
    "\n",
    "The right quantity is to look at is the conditional probability of a specific\n",
    "type of violation given a specific cuisine type and divide it by the\n",
    "unconditional probability of the violation for the entire population. Taking\n",
    "this ratio gives the right answer.  Return the 20 highest ratios of the form:\n",
    "    ```\n",
    "    ((cuisine, violation), ratio, count)\n",
    "    ```"
   ]
  },
  {
   "cell_type": "code",
   "execution_count": null,
   "metadata": {
    "collapsed": false
   },
   "outputs": [],
   "source": [
    "cursor = con.execute('select * from grades')\n",
    "names = [description[0] for description in cursor.description]\n",
    "print names"
   ]
  },
  {
   "cell_type": "code",
   "execution_count": null,
   "metadata": {
    "collapsed": false
   },
   "outputs": [],
   "source": [
    "cursor = con.execute('select * from violations')\n",
    "names = [description[0] for description in cursor.description]\n",
    "print names"
   ]
  },
  {
   "cell_type": "code",
   "execution_count": null,
   "metadata": {
    "collapsed": false
   },
   "outputs": [],
   "source": [
    "con.execute('DROP TABLE IF EXISTS violation_endate')\n",
    "con.execute(\"\"\"CREATE TABLE violation_endate AS SELECT A.CUISINECODE AS CUISINECODE, A.VIOLCODE AS VIOLCODE ,B.ENDDATE AS ENDDATE\n",
    "  ,A.COUNT0 AS COUNT0     FROM( SELECT CUISINECODE, VIOLCODE, COUNT(*) AS COUNT0 From grades\n",
    "        Group By CUISINECODE, VIOLCODE\n",
    ") AS A\n",
    "INNER JOIN (SELECT VIOLATIONCODE,ENDDATE FROM violations) AS B\n",
    " ON A.VIOLCODE = B.VIOLATIONCODE\n",
    "WHERE ENDDATE>'2014-01-1 00:00:00'\n",
    "\"\"\")\n",
    "#for row in con.execute('SELECT * FROM violation_endate'):\n",
    "#    print row"
   ]
  },
  {
   "cell_type": "code",
   "execution_count": null,
   "metadata": {
    "collapsed": false
   },
   "outputs": [],
   "source": [
    "s = 0\n",
    "con.execute('DROP TABLE IF EXISTS cond_prob')\n",
    "con.execute('''CREATE TABLE cond_prob AS SELECT  A.CUISINECODE AS CUISINECODE, A.VIOLCODE AS VIOLCODE , A.COUNT0 * 1.0 / B.COUNT2 As Freq\n",
    ",A.COUNT0 AS COUNT0 From    (\n",
    "        Select CUISINECODE, VIOLCODE,COUNT0 \n",
    "        From   violation_endate \n",
    "        Group By CUISINECODE, VIOLCODE\n",
    "        ) As A\n",
    "        Inner Join (\n",
    "            Select CUISINECODE, COUNT(*) As COUNT2\n",
    "            From   grades \n",
    "            Group By CUISINECODE\n",
    "            ) As B\n",
    "            On A.CUISINECODE = B.CUISINECODE\n",
    "           ''')\n",
    "#for row in con.execute('SELECT * FROM cond_prob'):\n",
    "#    print row"
   ]
  },
  {
   "cell_type": "code",
   "execution_count": null,
   "metadata": {
    "collapsed": false
   },
   "outputs": [],
   "source": [
    "con.execute('DROP TABLE IF EXISTS new_grades')\n",
    "con.execute(\"\"\"CREATE TABLE new_grades AS SELECT A.CUISINECODE AS CUISINECODE, A.VIOLCODE AS VIOLCODE ,B.ENDDATE AS ENDDATE\n",
    "        FROM( SELECT CUISINECODE, VIOLCODE FROM grades) AS A\n",
    "        INNER JOIN (SELECT VIOLATIONCODE,ENDDATE FROM violations) AS B\n",
    "        ON A.VIOLCODE = B.VIOLATIONCODE\n",
    "        WHERE ENDDATE>'2014-01-1 00:00:00'\n",
    "\"\"\")\n",
    "\n",
    "#for row in con.execute('SELECT * FROM new_grades'):\n",
    "#    print row"
   ]
  },
  {
   "cell_type": "code",
   "execution_count": null,
   "metadata": {
    "collapsed": false
   },
   "outputs": [],
   "source": [
    "con.execute('DROP TABLE IF EXISTS vio_table')\n",
    "con.execute('''CREATE TABLE vio_table AS Select A.VIOLCODE AS VIOLCODE,A.COUNT3 AS COUNT3, B.vio_count As TOTAL\n",
    "From    (\n",
    "        Select VIOLCODE,COUNT(*) AS COUNT3\n",
    "        From   new_grades \n",
    "        Group By VIOLCODE\n",
    "        ) As A\n",
    "        Inner Join (\n",
    "            Select Count(*) As vio_count\n",
    "            From   new_grades \n",
    "            ) As B\n",
    "           ''')\n",
    "con.execute('DROP TABLE IF EXISTS prob_vio')\n",
    "con.execute('CREATE TABLE prob_vio AS SELECT VIOLCODE,COUNT3*1.0/TOTAL AS Prob_vio FROM vio_table GROUP BY VIOLCODE')\n",
    "#for row in con.execute('SELECT * FROM prob_vio'):\n",
    "#    print row\n",
    "    \n"
   ]
  },
  {
   "cell_type": "code",
   "execution_count": null,
   "metadata": {
    "collapsed": false
   },
   "outputs": [],
   "source": [
    "# CREATE THE FINAL VERSION OF THE TABLE\n",
    "con.execute('DROP TABLE IF EXISTS final_table')\n",
    "con.execute('''CREATE TABLE final_table AS Select A.CUISINECODE AS CUISINECODE, B.VIOLCODE AS VIOLCODE, A.Freq/B.Prob_vio As RATIO\n",
    ", A.COUNT0 AS COUNT0 From    (\n",
    "        Select CUISINECODE,VIOLCODE,Freq,COUNT0 \n",
    "        From   cond_prob \n",
    "        WHERE COUNT0>100) As A\n",
    "        Inner Join (\n",
    "            Select VIOLCODE, Prob_vio\n",
    "            From   prob_vio \n",
    "            ) As B\n",
    "            On A.VIOLCODE = B.VIOLCODE\n",
    "           ''')\n"
   ]
  },
  {
   "cell_type": "code",
   "execution_count": null,
   "metadata": {
    "collapsed": false,
    "scrolled": true
   },
   "outputs": [],
   "source": [
    "violation_dict = {}\n",
    "FINAL_LIST = []\n",
    "cuisine_dict = {}\n",
    "input_cuisine_file = csv.DictReader(open('Cuisine.txt'))\n",
    "for row in input_cuisine_file:\n",
    "    cuisine_dict[row[\"CUISINECODE\"]] = str(row[\"CODEDESC\"]).decode(\"ascii\",\"ignore\")\n",
    "\n",
    "input_violation_file = csv.DictReader(open('Violation.txt'))\n",
    "for row in input_violation_file:\n",
    "    violation_dict[row[\"VIOLATIONCODE\"]] = str(row[\"VIOLATIONDESC\"]).decode(\"ascii\",\"ignore\")\n",
    "#print violation_dict\n",
    "\n",
    "\n",
    "for row in con.execute('SELECT * FROM final_table ORDER BY RATIO DESC LIMIT 20'):\n",
    "    FINAL_LIST.append(list((list((row[0],row[1])),row[2],row[3])))\n",
    "print FINAL_LIST\n",
    "\n",
    "final_cuisine_violation = []\n",
    "for item in FINAL_LIST:\n",
    "    item[0][0] = str(cuisine_dict[item[0][0]])\n",
    "    item[0][1] = str(violation_dict[item[0][1]])\n",
    "    new_item = ((item[0][0],item[0][1]),item[1],item[2])\n",
    "    final_cuisine_violation.append(new_item)\n",
    "print final_cuisine_violation"
   ]
  },
  {
   "cell_type": "code",
   "execution_count": null,
   "metadata": {
    "collapsed": false
   },
   "outputs": [],
   "source": [
    "con.commit()\n",
    "con.close()"
   ]
  }
 ],
 "metadata": {
  "kernelspec": {
   "display_name": "Python 2",
   "language": "python",
   "name": "python2"
  },
  "language_info": {
   "codemirror_mode": {
    "name": "ipython",
    "version": 2
   },
   "file_extension": ".py",
   "mimetype": "text/x-python",
   "name": "python",
   "nbconvert_exporter": "python",
   "pygments_lexer": "ipython2",
   "version": "2.7.10"
  }
 },
 "nbformat": 4,
 "nbformat_minor": 0
}

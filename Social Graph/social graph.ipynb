{
 "cells": [
  {
   "cell_type": "markdown",
   "metadata": {},
   "source": [
    "# Social Graph\n",
    "\n",
    "[New York Social Diary](http://www.newyorksocialdiary.com/) provides a\n",
    "fascinating lens onto New York's socially well-to-do.  The data forms a natural\n",
    "social graph for New York's social elite.  "
   ]
  },
  {
   "cell_type": "code",
   "execution_count": 1,
   "metadata": {
    "collapsed": true
   },
   "outputs": [],
   "source": [
    "import csv\n",
    "import re\n",
    "import networkx as nx\n",
    "import pandas as pd"
   ]
  },
  {
   "cell_type": "code",
   "execution_count": 2,
   "metadata": {
    "collapsed": true
   },
   "outputs": [],
   "source": [
    "def create_edge_tuple(List):\n",
    "    a = []\n",
    "    for x in List:\n",
    "        for y in List:\n",
    "            if x !=y:\n",
    "                a.append(tuple(list(set([x,y]))))\n",
    "        List.remove(x)\n",
    "    return [item for item in list(set(a))]"
   ]
  },
  {
   "cell_type": "code",
   "execution_count": 3,
   "metadata": {
    "collapsed": true
   },
   "outputs": [],
   "source": [
    "input_file = csv.DictReader(open('captiondata1.csv'))\n",
    "\n",
    "caption_list = []\n",
    "name_sublist = []\n",
    "name_list = []\n",
    "titles = ['Mr.', 'Mrs.', 'Ms.', 'Dr.', 'Mayor', 'CEO', 'M.D.', 'AMC', 'AOHT','ANDRUS', 'AOHT', 'ASF', 'ASPCA',\\\n",
    "         'ACO', 'ACC', 'ABT', 'ACandC', 'AFIPO', 'ALS', 'ALSGNY', 'AAADTs', 'AIA', 'AIS',\\\n",
    "         'Actress', 'Actresses', 'Actor', 'Actors', 'Author', 'Authors', 'Bad', 'C.B.E.', 'COO'\\\n",
    "         'Board Member','Photographs','Benefit Chairman', 'Benefit Chairmen', 'Benefit Chairs','CCBF Chairman',\\\n",
    "         'CCBF Doctors', 'CNBC', 'CUNY Chancellor', 'CSHL President', 'CSUN President', 'President', \\\n",
    "         'Vice President',  'Cardiologist', 'Miss New York', 'New York', 'COO'\\\n",
    "          'Board Member','Photographs','Benefit Chairman', 'Benefit Chairmen', 'Benefit Chairs','CCBF Chairman',\\\n",
    "         'CCBF Doctors', 'CNBC', 'CUNY Chancellor', 'CSHL President', 'CSUN President', 'President', \\\n",
    "         'Vice President',  'Cardiologist', 'Miss New York', 'New York', 'COO'\n",
    "         ]\n",
    "\n",
    "for row in input_file:    \n",
    "    caption = row[\"caption\"].split('%')\n",
    "    for caption_item in caption:\n",
    "        if len(caption_item)<250:\n",
    "            caption_item = caption_item.decode('utf-8').strip().replace('\\n',' ').replace('\\t',' ')\n",
    "            for word in titles:\n",
    "                if word in caption_item:\n",
    "                    caption_item = re.sub(word,'',caption_item)\n",
    "            caption_item = re.sub('[^A-Za-z\\,\\& \\.]+', ' ', caption_item)      # remove all the special characters\n",
    "            split_list = re.split(',|and |with |& ',caption_item)                    \n",
    "            name_sublist = filter(None, split_list)\n",
    "            name_sublist = [item.strip() for item in name_sublist]\n",
    "            # remove whitespaces strings\n",
    "            name_sublist_filter = filter(lambda name: name.strip() and len(name.split(' '))<=4 and name[0].isupper(),name_sublist) \n",
    "            if name_sublist_filter:\n",
    "                # deal with husband and wife case\n",
    "                new_list = []\n",
    "                c = []\n",
    "                for item in name_sublist_filter:\n",
    "                    if len(item.split(' ')) ==1:\n",
    "                        new_list.append(item)\n",
    "                        #print new_list\n",
    "                        continue\n",
    "                    else:\n",
    "                        last_name = item.split(' ')[-1]\n",
    "                        b = [first_name+\" \"+last_name for first_name in new_list]\n",
    "                        new_list = []\n",
    "                        c.extend(b)\n",
    "                        c.append(item)\n",
    "                name_list.append(c)\n",
    "                #print name_sublist_filter\n",
    "        caption_list.append(caption_item)"
   ]
  },
  {
   "cell_type": "code",
   "execution_count": 4,
   "metadata": {
    "collapsed": true
   },
   "outputs": [],
   "source": [
    "#Draw a Graph\n",
    "G = nx.Graph()\n",
    "node_list = [item for x in name_list for item in x]\n",
    "new_node_list = list(set(node_list))\n",
    "G.add_nodes_from(new_node_list)\n",
    "list_tuple = []\n",
    "for item in name_list:\n",
    "    a = create_edge_tuple(item)\n",
    "    for x in a:\n",
    "        list_tuple.append(x)\n",
    "#print list_tuple\n",
    "for node_pair in list_tuple:\n",
    "    if G.has_edge(node_pair[0],node_pair[1]):\n",
    "        G[node_pair[0]][node_pair[1]]['weight']+=1            \n",
    "    else:\n",
    "        G.add_edge(node_pair[0],node_pair[1],weight = 1)"
   ]
  },
  {
   "cell_type": "markdown",
   "metadata": {},
   "source": [
    "## 1. degree\n",
    "The simplest question to ask is \"who is the most popular\"?  The easiest way to\n",
    "answer this question is to look at how many connections everyone has.  Return\n",
    "the top 100 people and their degree.  Remember that if an edge of the graph has\n",
    "weight 2, it counts for 2 in the degree."
   ]
  },
  {
   "cell_type": "code",
   "execution_count": 5,
   "metadata": {
    "collapsed": true
   },
   "outputs": [],
   "source": [
    "# Question 1\n",
    "degree_dict = G.degree()\n",
    "table_degree = pd.Series(degree_dict)\n",
    "sorted_table_degree = table_degree.order(ascending = False)\n",
    "sorted_list_degree = []\n",
    "for i in range(0,100):\n",
    "    Index = sorted_table_degree.index[i]\n",
    "    sorted_list_degree.append((str(sorted_table_degree.index[i]),sorted_table_degree[Index])) "
   ]
  },
  {
   "cell_type": "markdown",
   "metadata": {},
   "source": [
    "## 2. pagerank\n",
    "A similar way to determine popularity is to look at their\n",
    "[pagerank](http://en.wikipedia.org/wiki/PageRank).  Pagerank is used for web\n",
    "ranking and was originally\n",
    "[patented](http://patft.uspto.gov/netacgi/nph-Parser?patentnumber=6285999) by\n",
    "Google and is essentially the stationary distribution of a [markov\n",
    "chain](http://en.wikipedia.org/wiki/Markov_chain) implied by the social graph.\n",
    "\n",
    "Use 0.85 as the damping parameter so that there is a 15% chance of jumping to\n",
    "another vertex at random."
   ]
  },
  {
   "cell_type": "code",
   "execution_count": 6,
   "metadata": {
    "collapsed": true
   },
   "outputs": [],
   "source": [
    "#Question 2\n",
    "pagerank_dict = nx.pagerank(G,alpha=0.85, personalization=None, max_iter=100, tol=1e-06, nstart=None, weight='weight', dangling=None)\n",
    "table_pagerank = pd.Series(pagerank_dict)\n",
    "sorted_table_pagerank = table_pagerank.order(ascending = False)\n",
    "sorted_list_pagerank = []\n",
    "for i in range(0,100):\n",
    "    Index = sorted_table_pagerank.index[i]\n",
    "    sorted_list_pagerank.append((str(sorted_table_pagerank.index[i]),sorted_table_pagerank[Index]))\n",
    "#print sorted_list_pagerank"
   ]
  },
  {
   "cell_type": "markdown",
   "metadata": {},
   "source": [
    "## 3. best_friends\n",
    "Another interesting question is who tend to co-occur with each other.  Give\n",
    "us the 100 edges with the highest weights."
   ]
  },
  {
   "cell_type": "code",
   "execution_count": 8,
   "metadata": {
    "collapsed": false
   },
   "outputs": [
    {
     "name": "stdout",
     "output_type": "stream",
     "text": [
      "[(('Gillian Miniter', 'Sylvester Miniter'), 75), (('Jamee Gregory', 'Peter Gregory'), 54), (('Bonnie Comley', 'Stewart Lane'), 51), (('Andrew Saffir', 'Daniel Benedict'), 51), (('Roric Tobin', 'Geoffrey Bradfield'), 46), (('Somers Farkas', 'Jonathan Farkas'), 40), (('Jay Diamond', 'Alexandra Lebenthal'), 37), (('Donald Tober', 'Barbara Tober'), 36), (('Martin Shafiroff', 'Jean Shafiroff'), 35), (('Chappy Morris', 'Melissa Morris'), 32), (('Campion Platt', 'Tatiana Platt'), 30), (('Chris Meigher', 'Grace Meigher'), 30), (('Lizzie Tisch', 'Jonathan Tisch'), 28), (('Peter Regna', 'Barbara Regna'), 27), (('Sessa von Richthofen', 'Richard Johnson'), 27), (('John Catsimatidis', 'Margo Catsimatidis'), 27), (('Wilbur Ross', 'Hilary Geary Ross'), 26), (('Arie Kopelman', 'Coco Kopelman'), 26), (('Deborah Norville', 'Karl Wellner'), 26), (('Elizabeth Stribling', 'Guy Robinson'), 24), (('Yaz Hernandez', 'Valentin Hernandez'), 24), (('Julia Koch', 'David Koch'), 24), (('Olivia Palermo', 'Johannes Huebl'), 23), (('Janna Bullock', 'R. Couri Hay'), 22), (('Michael Kennedy', 'Eleanora Kennedy'), 22), (('Anne Hearst McInerney', 'Jay McInerney'), 21), (('Douglas Hannant', 'Frederick Anderson'), 21), (('Arlene Dahl', 'Marc Rosen'), 20), (('Tommy Hilfiger', 'Dee Ocleppo'), 20), (('Mark gley', 'James Mischka'), 19), (('Donald Trump', 'Melania Trump'), 18), (('Clo Cohen', 'Charles Cohen'), 18), (('Mary Davidson', 'Marvin Davidson'), 17), (('Fernanda Kellogg', 'Kirk Henckels'), 17), (('Stephanie Krieger', 'Brian Stewart'), 17), (('Leonel Piraino', 'Nina Griscom'), 17), (('Sherrell Aston', 'Muffie Potter Aston'), 16), (('Laura Slatkin', 'Harry Slatkin'), 16), (('Sharon Bush', 'Jean Shafiroff'), 16), (('Al Roker', 'Deborah Roberts'), 16), (('Anna Safir', 'Eleanora Kennedy'), 15), (('Wilbur Ross', 'Hilary Ross'), 15), (('Lauren Bush', 'David Lauren'), 15), (('Diana Taylor', 'Michael Bloomberg'), 15), (('Thorne Perkin', 'Tatiana Perkin'), 15), (('Dennis Basso', 'Michael Cominotto'), 15), (('Chuck Scarborough', 'Ellen Scarborough'), 14), (('Elaine Langone', 'Ken Langone'), 14), (('Richard Steinberg', 'Renee Steinberg'), 14), (('Francine LeFrak', 'Rick Friedberg'), 14), (('Gillian Miniter', 'Serena Miniter'), 14), (('Randy Kemper', 'Tony Ingrao'), 14), (('Robert Bradford', 'Barbara Taylor Bradford'), 14), (('Keytt Lundqvist', 'Alex Lundqvist'), 13), (('Kim Taipale', 'Nicole Miller'), 13), (('CeCe Black', 'Lee Black'), 13), (('Donna Soloway', 'Richard Soloway'), 13), (('Gillian Hearst Simonds', 'Christian Simonds'), 13), (('Richard LeFrak', 'Karen LeFrak'), 13), (('Othon Prounis', 'Kathy Prounis'), 13), (('Coleman Burke', 'Susan Burke'), 13), (('Roxanne Palin', 'Dean Palin'), 13), (('Liz Peek', 'Jeff Peek'), 13), (('Alec Baldwin', 'Hilaria Baldwin'), 12), (('Isabel Toledo', 'Ruben Toledo'), 12), (('Martha Glass', 'John Glass'), 12), (('Melanie Wambold', 'John Wambold'), 12), (('Will Cotton', 'Rose Dergan'), 12), (('Richard Farley', 'Chele Chiavacci'), 12), (('Harry Kargman', 'Jill Kargman'), 12), (('Dan Lufkin', 'Cynthia Lufkin'), 12), (('Hunt Slonem', 'Liliana Cavendish'), 12), (('Larry Herbert', 'Michele Herbert'), 12), (('Caroline Murphy', 'Heather Matarazzo'), 12), (('Charlotte Ronson', 'Ali Wise'), 12), (('Todd Slotkin', 'Sharyn Mann'), 11), (('Jeff Koons', 'Justine Koons'), 11), (('Shirin von Wulffen', 'Frederic Fekkai'), 11), (('Jonathan Adler', 'Simon Doonan'), 11), (('Peter Martins', 'Darci Kistler'), 11), (('Ken Starr', 'Diane Passage'), 11), (('Daniel Benedict', 'Johannes Huebl'), 11), (('Gillian Miniter', 'Alexandra Lebenthal'), 11), (('David Yurman', 'Sybil Yurman'), 11), (('Judy Gilbert', 'Rod Gilbert'), 11), (('Ana Oliveira', 'Diana Taylor'), 11), (('Howard Sobel', 'Gayle Sobel'), 11), (('Mish Tworkowski', 'Joseph Singer'), 11), (('Juan Montoya', 'Urban Karlsson'), 11), (('Susan Magazine', 'Nicholas Scoppetta'), 11), (('Jean Shafiroff', 'Lucia Hwong Gordon'), 10), (('Bryant Gumbel', 'Hilary Gumbel'), 10), (('Lorenzo Martone', 'Marc Jacobs'), 10), (('Joe Pontarelli', 'Jane Pontarelli'), 10), (('Jon Heinemann', 'Michelle Marie Heinemann'), 10), (('Robert I. Grossman', 'MD Langone'), 10), (('Anne Ford', 'Charlotte Ford'), 10), (('Kyle MacLachlan', 'Desiree Gruber'), 10), (('Samantha Yanks', 'David Yanks'), 10), (('Carolina Herrera', 'Reinaldo Herrera'), 10)]\n"
     ]
    }
   ],
   "source": [
    "#Question 3\n",
    "weights = G.edges(data = True)\n",
    "L = []\n",
    "for (n1,n2,w) in weights:\n",
    "    t = (n1,n2,w['weight'])\n",
    "    L.append(t)\n",
    "df = pd.DataFrame(L, columns=['node1', 'node2', 'weight'])\n",
    "sorted_df = df.sort(['weight'],ascending = False)\n",
    "\n",
    "#print sorted_df[0:100]\n",
    "\n",
    "best_friends = []\n",
    "for name1,name2,weight in sorted_df[0:100].values:\n",
    "    best_friends.append(((str(name1),str(name2)),weight))\n",
    "print best_friends\n"
   ]
  }
 ],
 "metadata": {
  "kernelspec": {
   "display_name": "Python 2",
   "language": "python",
   "name": "python2"
  },
  "language_info": {
   "codemirror_mode": {
    "name": "ipython",
    "version": 2
   },
   "file_extension": ".py",
   "mimetype": "text/x-python",
   "name": "python",
   "nbconvert_exporter": "python",
   "pygments_lexer": "ipython2",
   "version": "2.7.10"
  }
 },
 "nbformat": 4,
 "nbformat_minor": 0
}
